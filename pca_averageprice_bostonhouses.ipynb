{
  "nbformat": 4,
  "nbformat_minor": 0,
  "metadata": {
    "colab": {
      "name": "ml_hw3.ipynb",
      "provenance": [],
      "collapsed_sections": []
    },
    "kernelspec": {
      "name": "python3",
      "display_name": "Python 3"
    },
    "language_info": {
      "name": "python"
    }
  },
  "cells": [
    {
      "cell_type": "markdown",
      "source": [
        "# Average house prices - PCA\n",
        "\n",
        "In this jupyter notebook, we will implement PCA algortihm and then apply it to average house prices in Boston [dataset](http://lib.stat.cmu.edu/datasets/boston)."
      ],
      "metadata": {
        "id": "nfykdI1F7nAp"
      }
    },
    {
      "cell_type": "code",
      "execution_count": 1,
      "metadata": {
        "id": "IyvFD8su5FFu"
      },
      "outputs": [],
      "source": [
        "import numpy as np\n",
        "from sklearn.decomposition import PCA\n",
        "\n",
        "import matplotlib.pyplot as plt"
      ]
    },
    {
      "cell_type": "markdown",
      "source": [
        "### a) Create normalization function, that will normalize the data to 0 mean and unit variance."
      ],
      "metadata": {
        "id": "lOcS0cJQtDun"
      }
    },
    {
      "cell_type": "code",
      "source": [
        "def myNormalize(x):\n",
        "  return (x - x.mean(axis=0)) / x.std(axis=0)\n",
        "\n",
        "# To test if we were successful\n",
        "x = 5 + (np.random.randn(3,3) * 2)\n",
        "normed = myNormalize(x)\n",
        "print('mean:', normed.mean(axis=0))\n",
        "print('std:', normed.std(axis=0))"
      ],
      "metadata": {
        "colab": {
          "base_uri": "https://localhost:8080/"
        },
        "id": "DX1efpyV7v43",
        "outputId": "1b4bc23c-c2ed-4db0-bb05-1cbbf3df3f48"
      },
      "execution_count": 2,
      "outputs": [
        {
          "output_type": "stream",
          "name": "stdout",
          "text": [
            "mean: [ 2.96059473e-16  2.77555756e-16 -1.03620816e-15]\n",
            "std: [1. 1. 1.]\n"
          ]
        }
      ]
    },
    {
      "cell_type": "markdown",
      "source": [
        "### b) Create custom PCA function basen on the algorithms that we have learned from lectures"
      ],
      "metadata": {
        "id": "wzrcJAX0tOB_"
      }
    },
    {
      "cell_type": "code",
      "source": [
        "def myPCA(x, k):\n",
        "  # 1. get covariance matrix\n",
        "  K = np.cov(x, rowvar=False)\n",
        "\n",
        "  # 2. compute eigenvalue and eigenvectors\n",
        "  v, W = np.linalg.eigh(K)\n",
        "\n",
        "  # 3. sort eigenvectors\n",
        "  idx = v.argsort()[::-1]\n",
        "\n",
        "  v_sorted = v[idx]\n",
        "  W_sorted = W[:,idx]\n",
        "\n",
        "  # 4. return k first eigenvectors\n",
        "  return W_sorted[:,0:k].T\n",
        "\n",
        "# again we can compare our eigenvectors with the ones from sklearn\n",
        "my_components = myPCA(normed, 2)\n",
        "print(my_components)\n",
        "\n",
        "pca = PCA(n_components=2)\n",
        "pca.fit(normed)\n",
        "print(pca.components_)"
      ],
      "metadata": {
        "colab": {
          "base_uri": "https://localhost:8080/"
        },
        "id": "NfGHHbNp8au3",
        "outputId": "e9630342-1db1-4082-84e7-92ce61770407"
      },
      "execution_count": 3,
      "outputs": [
        {
          "output_type": "stream",
          "name": "stdout",
          "text": [
            "[[-0.66765553 -0.26475092 -0.69580388]\n",
            " [ 0.2984803  -0.95141651  0.07560517]]\n",
            "[[-0.66765553 -0.26475092 -0.69580388]\n",
            " [ 0.2984803  -0.95141651  0.07560517]]\n"
          ]
        }
      ]
    },
    {
      "cell_type": "markdown",
      "source": [
        "### c) Apply our functions to averate house prices in Boston dataset"
      ],
      "metadata": {
        "id": "-yBADjb_ueaW"
      }
    },
    {
      "cell_type": "code",
      "source": [
        "# download dataset an remove header\n",
        "!wget http://lib.stat.cmu.edu/datasets/boston\n",
        "!sed -e '1,22d' < boston > boston.txt"
      ],
      "metadata": {
        "colab": {
          "base_uri": "https://localhost:8080/"
        },
        "id": "A8TD40aV-aED",
        "outputId": "1b1fd965-7794-4041-e081-03632ee9710e"
      },
      "execution_count": 4,
      "outputs": [
        {
          "output_type": "stream",
          "name": "stdout",
          "text": [
            "--2021-12-27 16:56:22--  http://lib.stat.cmu.edu/datasets/boston\n",
            "Resolving lib.stat.cmu.edu (lib.stat.cmu.edu)... 128.2.12.64\n",
            "Connecting to lib.stat.cmu.edu (lib.stat.cmu.edu)|128.2.12.64|:80... connected.\n",
            "HTTP request sent, awaiting response... 200 OK\n",
            "Length: 51256 (50K) [text/plain]\n",
            "Saving to: ‘boston’\n",
            "\n",
            "boston              100%[===================>]  50.05K   251KB/s    in 0.2s    \n",
            "\n",
            "2021-12-27 16:56:22 (251 KB/s) - ‘boston’ saved [51256/51256]\n",
            "\n"
          ]
        }
      ]
    },
    {
      "cell_type": "markdown",
      "source": [
        "As the provided dataset was with with extra \\n after 11th feature, we needed to parse it a little. Simply split each line on whitespaces and if the line has 3 features concatenate it with the last in data list."
      ],
      "metadata": {
        "id": "LqEQosdsvMfm"
      }
    },
    {
      "cell_type": "code",
      "source": [
        "data = []\n",
        "\n",
        "with open('boston.txt','r') as f:\n",
        "  for line in f:\n",
        "    item = list(map(float,line.split()))\n",
        "\n",
        "    if len(item) == 3:\n",
        "      data[-1] = data[-1] + item\n",
        "    else:\n",
        "      data.append(item)\n",
        "\n",
        "data = np.array(data)"
      ],
      "metadata": {
        "id": "T9orcn0EL5mC"
      },
      "execution_count": 5,
      "outputs": []
    },
    {
      "cell_type": "code",
      "source": [
        "# check if we have the right shape\n",
        "print(data)\n",
        "data.shape"
      ],
      "metadata": {
        "colab": {
          "base_uri": "https://localhost:8080/"
        },
        "id": "LmZ8kT8gMBuB",
        "outputId": "5cef7c45-9402-4337-ca5d-c721e184d028"
      },
      "execution_count": 6,
      "outputs": [
        {
          "output_type": "stream",
          "name": "stdout",
          "text": [
            "[[6.3200e-03 1.8000e+01 2.3100e+00 ... 3.9690e+02 4.9800e+00 2.4000e+01]\n",
            " [2.7310e-02 0.0000e+00 7.0700e+00 ... 3.9690e+02 9.1400e+00 2.1600e+01]\n",
            " [2.7290e-02 0.0000e+00 7.0700e+00 ... 3.9283e+02 4.0300e+00 3.4700e+01]\n",
            " ...\n",
            " [6.0760e-02 0.0000e+00 1.1930e+01 ... 3.9690e+02 5.6400e+00 2.3900e+01]\n",
            " [1.0959e-01 0.0000e+00 1.1930e+01 ... 3.9345e+02 6.4800e+00 2.2000e+01]\n",
            " [4.7410e-02 0.0000e+00 1.1930e+01 ... 3.9690e+02 7.8800e+00 1.1900e+01]]\n"
          ]
        },
        {
          "output_type": "execute_result",
          "data": {
            "text/plain": [
              "(506, 14)"
            ]
          },
          "metadata": {},
          "execution_count": 6
        }
      ]
    },
    {
      "cell_type": "code",
      "source": [
        "# remove last feature\n",
        "# also check if we have the right shape\n",
        "train = data[:,:-1]\n",
        "print(train)\n",
        "print(train.shape)"
      ],
      "metadata": {
        "colab": {
          "base_uri": "https://localhost:8080/"
        },
        "id": "T4C8R7d3QD8i",
        "outputId": "371ccb99-5d55-4a13-9b92-d8da4ac6c0a4"
      },
      "execution_count": 7,
      "outputs": [
        {
          "output_type": "stream",
          "name": "stdout",
          "text": [
            "[[6.3200e-03 1.8000e+01 2.3100e+00 ... 1.5300e+01 3.9690e+02 4.9800e+00]\n",
            " [2.7310e-02 0.0000e+00 7.0700e+00 ... 1.7800e+01 3.9690e+02 9.1400e+00]\n",
            " [2.7290e-02 0.0000e+00 7.0700e+00 ... 1.7800e+01 3.9283e+02 4.0300e+00]\n",
            " ...\n",
            " [6.0760e-02 0.0000e+00 1.1930e+01 ... 2.1000e+01 3.9690e+02 5.6400e+00]\n",
            " [1.0959e-01 0.0000e+00 1.1930e+01 ... 2.1000e+01 3.9345e+02 6.4800e+00]\n",
            " [4.7410e-02 0.0000e+00 1.1930e+01 ... 2.1000e+01 3.9690e+02 7.8800e+00]]\n",
            "(506, 13)\n"
          ]
        }
      ]
    },
    {
      "cell_type": "markdown",
      "source": [
        "Get frist 2 eigenvectors."
      ],
      "metadata": {
        "id": "HNWRApAAweaq"
      }
    },
    {
      "cell_type": "code",
      "source": [
        "components = myPCA(myNormalize(train), 2)"
      ],
      "metadata": {
        "id": "aVb1aDmZQQuh"
      },
      "execution_count": 8,
      "outputs": []
    },
    {
      "cell_type": "markdown",
      "source": [
        "In this section I was kinda confused. The assignment tells us to plot components in 2D graph (should we print the eigenvectors? should it be simple plot?). My common sense tells me that the the data should be transform by the first and second eigenvector and plotet as scatter plot. I hope my common sense was right :)\n",
        "\n",
        "Get first pricncipal component."
      ],
      "metadata": {
        "id": "XQ0pvuJxwq-U"
      }
    },
    {
      "cell_type": "code",
      "source": [
        "PC1 = train@components[0].T\n",
        "\n",
        "fig = plt.figure()\n",
        "fig.suptitle('1st component')\n",
        "plt.scatter(PC1, data[:,13])\n",
        "plt.scatter(PC1[data[:,13] <= 15], data[data[:,13] <= 15][:,13], label='cheap', color='green')\n",
        "plt.scatter(PC1[data[:,13] >= 30], data[data[:,13] >= 30][:,13], label='expensive', color='red')\n",
        "plt.legend(loc='best')"
      ],
      "metadata": {
        "colab": {
          "base_uri": "https://localhost:8080/",
          "height": 311
        },
        "id": "rDTt_rbsRZ3g",
        "outputId": "267cbdbd-3a0d-46e1-811d-524102a6f858"
      },
      "execution_count": 9,
      "outputs": [
        {
          "output_type": "execute_result",
          "data": {
            "text/plain": [
              "<matplotlib.legend.Legend at 0x7f67321274d0>"
            ]
          },
          "metadata": {},
          "execution_count": 9
        },
        {
          "output_type": "display_data",
          "data": {
            "image/png": "[encoded data removed]",
            "text/plain": [
              "<Figure size 432x288 with 1 Axes>"
            ]
          },
          "metadata": {
            "needs_background": "light"
          }
        }
      ]
    },
    {
      "cell_type": "code",
      "source": [
        "PC2 = train@components[1].T\n",
        "\n",
        "fig = plt.figure()\n",
        "fig.suptitle('2nd component')\n",
        "plt.scatter(PC2, data[:,13])\n",
        "plt.scatter(PC2[data[:,13] <= 15], data[data[:,13] <= 15][:,13], label='cheap', color='green')\n",
        "plt.scatter(PC2[data[:,13] >= 30], data[data[:,13] >= 30][:,13], label='expensive', color='red')\n",
        "plt.legend(loc='best')\n",
        "plt.legend(loc='best')"
      ],
      "metadata": {
        "colab": {
          "base_uri": "https://localhost:8080/",
          "height": 311
        },
        "id": "ZxOK1pYlS0x6",
        "outputId": "7637068b-0dbf-4b75-8e0c-8efd405ea37a"
      },
      "execution_count": 10,
      "outputs": [
        {
          "output_type": "execute_result",
          "data": {
            "text/plain": [
              "<matplotlib.legend.Legend at 0x7f67320d3c90>"
            ]
          },
          "metadata": {},
          "execution_count": 10
        },
        {
          "output_type": "display_data",
          "data": {
            "image/png": "[encoded data removed]",
            "text/plain": [
              "<Figure size 432x288 with 1 Axes>"
            ]
          },
          "metadata": {
            "needs_background": "light"
          }
        }
      ]
    },
    {
      "cell_type": "markdown",
      "source": [
        "### Conclusion\n",
        "\n",
        "The conclusion that we can draw from plotting the first and second principal components, is that the density of the cheapest houses is highier when first pricipal component is in range 200-250 and the second principal components is in range 50-75.\n",
        "\n",
        "We can say that that it's more common for cheaper houses to have PC1 in 200-250 and PC2 in 50-75. Also we can say that it's more commont for expensive houses to have PC1 in -10-50 and PC2 in -60-0."
      ],
      "metadata": {
        "id": "vZhkLz3lxqFn"
      }
    }
  ]
}
